{
 "cells": [
  {
   "cell_type": "markdown",
   "metadata": {},
   "source": [
    "# Python Interview Questions"
   ]
  },
  {
   "cell_type": "markdown",
   "metadata": {},
   "source": [
    "## Python List\n",
    "- General Purpose\n",
    "- Most widly used data struct\n",
    "- Grow and shrink size as needed\n",
    "- Sequence Type\n",
    "- Sortable"
   ]
  },
  {
   "cell_type": "markdown",
   "metadata": {},
   "source": [
    "## Tuple\n",
    "- Immutable(can't add/change)\n",
    "- Useful for fixed data\n",
    "- Faster than Lists\n",
    "- Sequence type"
   ]
  },
  {
   "cell_type": "markdown",
   "metadata": {},
   "source": [
    "## Set\n",
    "- Store non-duplicate items\n",
    "- Very fast access vs Lists\n",
    "- Math Sets ops(union, intersect)\n",
    "- Unordered"
   ]
  },
  {
   "cell_type": "markdown",
   "metadata": {},
   "source": [
    "## Dict\n",
    "- Key/Value pairs\n",
    "- Associative array, like Java Hash Map\n",
    "- Unordered"
   ]
  },
  {
   "cell_type": "markdown",
   "metadata": {},
   "source": [
    "## Sequences\n",
    "- Indexing\n",
    "- Slicing\n",
    "- Adding/concat\n",
    "- Multiplying\n",
    "- in/in not\n",
    "- Iterating\n",
    "- len(seq1)\n",
    "- min(seq1)\n",
    "- max(seq1)\n",
    "- sum(seq1[1:3])\n",
    "- sorted(list1)\n",
    "- seq1.count(item)\n",
    "- seq2.index(item)"
   ]
  },
  {
   "cell_type": "markdown",
   "metadata": {},
   "source": [
    "# Variables"
   ]
  },
  {
   "cell_type": "markdown",
   "metadata": {},
   "source": [
    "1. How is char, integer, float and a string variable created and printed in python"
   ]
  },
  {
   "cell_type": "code",
   "execution_count": 6,
   "metadata": {},
   "outputs": [
    {
     "name": "stdout",
     "output_type": "stream",
     "text": [
      "Sawani Soman\n",
      "25\n",
      "22.5\n",
      "1\n",
      "22\n",
      "Sawan\n",
      "22.5\n"
     ]
    }
   ],
   "source": [
    "def variables():\n",
    "\tname = 'Sawani Soman'#string\n",
    "\tage = 25 #int declaration\n",
    "\tfees = 22.5 #float\n",
    "\n",
    "\tprint(name)\n",
    "\tprint(age)\n",
    "\tprint(fees)\n",
    "\n",
    "\ta = b = c = 1 #variable assignment method 2\n",
    "\tprint(c)\n",
    "\n",
    "\ta,b,c = 22, 'Sawan', 22.5 #variable assignment method 3\n",
    "\tprint(a)\n",
    "\tprint(b)\n",
    "\tprint(c)\n",
    "\n",
    "\n",
    "variables()"
   ]
  },
  {
   "cell_type": "code",
   "execution_count": 7,
   "metadata": {},
   "outputs": [
    {
     "name": "stdout",
     "output_type": "stream",
     "text": [
      "60\n"
     ]
    }
   ],
   "source": [
    "#result is called variable as it is defined inside the function\n",
    "#const1, const2: called as constants, as declared ouside the function\n",
    "def addition(p1,p2): #parameters are passed\n",
    "    result = p1+p2\n",
    "    return result\n",
    "\n",
    "const1 = 20\n",
    "const2 = 40\n",
    "print(addition(const1,const2)) #arguments are passed"
   ]
  },
  {
   "cell_type": "markdown",
   "metadata": {},
   "source": [
    "# Tuples"
   ]
  },
  {
   "cell_type": "markdown",
   "metadata": {},
   "source": [
    " 2.Create a Tuple with values belonging to a single datatype. print the values\n"
   ]
  },
  {
   "cell_type": "code",
   "execution_count": 17,
   "metadata": {},
   "outputs": [
    {
     "name": "stdout",
     "output_type": "stream",
     "text": [
      "()\n"
     ]
    }
   ],
   "source": [
    "#Empty tuple\n",
    "tuple_empty = ()\n",
    "print(tuple_empty)"
   ]
  },
  {
   "cell_type": "code",
   "execution_count": 8,
   "metadata": {},
   "outputs": [
    {
     "name": "stdout",
     "output_type": "stream",
     "text": [
      "(2, 4, 6, 8, 9)\n"
     ]
    }
   ],
   "source": [
    "single_dataType = (2,4,6,8,9)\n",
    "print(single_dataType)"
   ]
  },
  {
   "cell_type": "markdown",
   "metadata": {},
   "source": [
    "3.Create a Tuple with values belonging to mixed datatypes. print the values"
   ]
  },
  {
   "cell_type": "code",
   "execution_count": 10,
   "metadata": {},
   "outputs": [
    {
     "name": "stdout",
     "output_type": "stream",
     "text": [
      "(2, 'Sawani', True)\n"
     ]
    }
   ],
   "source": [
    "mixed = (2, 'Sawani', True)\n",
    "print(mixed)"
   ]
  },
  {
   "cell_type": "markdown",
   "metadata": {},
   "source": [
    "4.Create a Tuple which contains the following:  \n",
    "    - a string  \n",
    "    - a Sub List of values belonging to a single data type  \n",
    "    - a Sub Tuple with values belonging to a single data type"
   ]
  },
  {
   "cell_type": "code",
   "execution_count": 16,
   "metadata": {},
   "outputs": [
    {
     "name": "stdout",
     "output_type": "stream",
     "text": [
      "('Sawani Soman', (2, 4, 6, 8), [22, 44, 55, 66])\n"
     ]
    },
    {
     "data": {
      "text/plain": [
       "44"
      ]
     },
     "execution_count": 16,
     "metadata": {},
     "output_type": "execute_result"
    }
   ],
   "source": [
    "mixed_version = (\"Sawani Soman\", (2,4,6,8), [22,44,55,66]) #tuple declaration with string, sub list and sub tuple\n",
    "print(mixed_version)\n",
    "mixed_version[0]\n",
    "mixed_version[1][2]\n",
    "mixed_version[2][1]\n",
    "#mixed_version[2][4]  ---> it will show error list index out of range"
   ]
  },
  {
   "cell_type": "markdown",
   "metadata": {},
   "source": [
    " 5.Concept of tuple packing  \n",
    " 6.Explain the concept of Tuple Unpacking "
   ]
  },
  {
   "cell_type": "code",
   "execution_count": 18,
   "metadata": {},
   "outputs": [
    {
     "name": "stdout",
     "output_type": "stream",
     "text": [
      "(3.14, 'Sawani', True)\n"
     ]
    }
   ],
   "source": [
    "tuple_packing = 3.14, \"Sawani\", True #packing can be done without using brackets or with round brackets\n",
    "print(tuple_packing)"
   ]
  },
  {
   "cell_type": "code",
   "execution_count": 21,
   "metadata": {},
   "outputs": [
    {
     "name": "stdout",
     "output_type": "stream",
     "text": [
      "3.14\n",
      "Sawani\n",
      "True\n"
     ]
    }
   ],
   "source": [
    "tuple_unpack1,tuple_unpack2,tuple_unpack3 = tuple_packing #unpacking the tuple\n",
    "print(tuple_unpack1)\n",
    "print(tuple_unpack2)\n",
    "print(tuple_unpack3)\n"
   ]
  },
  {
   "cell_type": "markdown",
   "metadata": {},
   "source": [
    "7.Define a tuple which contains a string value. When queried, the tuple should be of  type 'class str‘. \n"
   ]
  },
  {
   "cell_type": "code",
   "execution_count": 26,
   "metadata": {},
   "outputs": [
    {
     "name": "stdout",
     "output_type": "stream",
     "text": [
      "<class 'str'>\n"
     ]
    }
   ],
   "source": [
    "tuple_string = (\"Sawani\") #when we declare only one element in the tuple\n",
    "print(type(tuple_string))"
   ]
  },
  {
   "cell_type": "markdown",
   "metadata": {},
   "source": [
    "8.Define a tuple which contains a string value. When queried, the tuple should be of  type 'class tuple‘."
   ]
  },
  {
   "cell_type": "code",
   "execution_count": 27,
   "metadata": {
    "scrolled": true
   },
   "outputs": [
    {
     "name": "stdout",
     "output_type": "stream",
     "text": [
      "<class 'tuple'>\n"
     ]
    }
   ],
   "source": [
    "tuple_string = (\"Sawani\", \"Omkar\", \"Mayur\") #when we declare multiple elements in the tuple\n",
    "print(type(tuple_string))"
   ]
  },
  {
   "cell_type": "code",
   "execution_count": 28,
   "metadata": {},
   "outputs": [
    {
     "name": "stdout",
     "output_type": "stream",
     "text": [
      "<class 'tuple'>\n"
     ]
    }
   ],
   "source": [
    "tuple_string = \"Sawani\",\"Omkar\", \"Soman\" #brackets are not needed/optional\n",
    "print(type(tuple_string))"
   ]
  },
  {
   "cell_type": "markdown",
   "metadata": {},
   "source": [
    "9.Can we define a tuple with out the conventional usage of the parenthesis?   \n",
    "Ans: Yes\n"
   ]
  },
  {
   "cell_type": "markdown",
   "metadata": {},
   "source": [
    "10.Given a tuple:  \n",
    "    my_tuple = ('p','z','r','q','i','t’), If we print my_tuple[6], does it print '0', \"\" or does it throw an error."
   ]
  },
  {
   "cell_type": "markdown",
   "metadata": {},
   "source": [
    "Ans: Error, tuple index out of range "
   ]
  },
  {
   "cell_type": "markdown",
   "metadata": {},
   "source": [
    "11.Given a tuple:\n",
    "    my_tuple = ('p','z','r','q','i','t’), If we print my_tuple[2.0], does it print 'r' or will it throw an error"
   ]
  },
  {
   "cell_type": "code",
   "execution_count": 34,
   "metadata": {},
   "outputs": [
    {
     "ename": "TypeError",
     "evalue": "tuple indices must be integers or slices, not float",
     "output_type": "error",
     "traceback": [
      "\u001b[0;31m---------------------------------------------------------------------------\u001b[0m",
      "\u001b[0;31mTypeError\u001b[0m                                 Traceback (most recent call last)",
      "\u001b[0;32m<ipython-input-34-68115436aba8>\u001b[0m in \u001b[0;36m<module>\u001b[0;34m()\u001b[0m\n\u001b[1;32m      1\u001b[0m \u001b[0mmy_tuple\u001b[0m \u001b[0;34m=\u001b[0m \u001b[0;34m(\u001b[0m\u001b[0;34m'p'\u001b[0m\u001b[0;34m,\u001b[0m\u001b[0;34m'z'\u001b[0m\u001b[0;34m,\u001b[0m\u001b[0;34m'q'\u001b[0m\u001b[0;34m,\u001b[0m\u001b[0;34m'r'\u001b[0m\u001b[0;34m,\u001b[0m\u001b[0;34m's'\u001b[0m\u001b[0;34m)\u001b[0m\u001b[0;34m\u001b[0m\u001b[0m\n\u001b[0;32m----> 2\u001b[0;31m \u001b[0mprint\u001b[0m\u001b[0;34m(\u001b[0m\u001b[0mmy_tuple\u001b[0m\u001b[0;34m[\u001b[0m\u001b[0;36m2.0\u001b[0m\u001b[0;34m]\u001b[0m\u001b[0;34m)\u001b[0m\u001b[0;34m\u001b[0m\u001b[0m\n\u001b[0m",
      "\u001b[0;31mTypeError\u001b[0m: tuple indices must be integers or slices, not float"
     ]
    }
   ],
   "source": [
    "my_tuple = ('p','z','q','r','s')\n",
    "print(my_tuple[2.0])   #error "
   ]
  },
  {
   "cell_type": "markdown",
   "metadata": {},
   "source": [
    "12.Given a tuple:\n",
    "   my_tuple = ('p','z','r','q','i','t’)    \n",
    "   print 't' and 'p' parsing from the other side of the tuple\n"
   ]
  },
  {
   "cell_type": "code",
   "execution_count": 35,
   "metadata": {},
   "outputs": [
    {
     "name": "stdout",
     "output_type": "stream",
     "text": [
      "t\n"
     ]
    }
   ],
   "source": [
    "my_tuple = ('p','z','q','r','s','t')\n",
    "print(my_tuple[-1])"
   ]
  },
  {
   "cell_type": "code",
   "execution_count": 36,
   "metadata": {},
   "outputs": [
    {
     "name": "stdout",
     "output_type": "stream",
     "text": [
      "p\n"
     ]
    }
   ],
   "source": [
    "print(my_tuple[-6])"
   ]
  },
  {
   "cell_type": "markdown",
   "metadata": {},
   "source": [
    "13.Given a tuple:\n",
    "    my_tuple = ('a','l','g','o','r','i','t','h','m')   \n",
    "    Using the concept of slicing, print - 'l', 'g', 'o‘"
   ]
  },
  {
   "cell_type": "code",
   "execution_count": 37,
   "metadata": {},
   "outputs": [
    {
     "name": "stdout",
     "output_type": "stream",
     "text": [
      "('l', 'g', 'o')\n"
     ]
    }
   ],
   "source": [
    "my_tuple = ('a','l','g','o','r','i','t','h','m')\n",
    "print(my_tuple[1:4])"
   ]
  },
  {
   "cell_type": "markdown",
   "metadata": {},
   "source": [
    "14.Given a tuple:\n",
    "    my_tuple = ('a','l','g','o','r','i','t','h','m')   \n",
    "    Using the concept of slicing, print – ‘a', ‘l’"
   ]
  },
  {
   "cell_type": "code",
   "execution_count": 38,
   "metadata": {},
   "outputs": [
    {
     "name": "stdout",
     "output_type": "stream",
     "text": [
      "('a', 'l')\n"
     ]
    }
   ],
   "source": [
    "my_tuple = ('a','l','g','o','r','i','t','h','m')\n",
    "print(my_tuple[0:2])"
   ]
  },
  {
   "cell_type": "markdown",
   "metadata": {},
   "source": [
    "15.Given a tuple:\n",
    "    my_tuple = ('a','l','g','o','r','i','t','h','m')   \n",
    "    Using the concept of slicing, print – ‘h', ‘m’"
   ]
  },
  {
   "cell_type": "code",
   "execution_count": 39,
   "metadata": {},
   "outputs": [
    {
     "name": "stdout",
     "output_type": "stream",
     "text": [
      "('h', 'm')\n"
     ]
    }
   ],
   "source": [
    "my_tuple = ('a','l','g','o','r','i','t','h','m')\n",
    "print(my_tuple[7:])"
   ]
  },
  {
   "cell_type": "markdown",
   "metadata": {},
   "source": [
    "16.Given a tuple:\n",
    "    my_tuple = ('a','l','g','o','r','i','t','h','m')   \n",
    "    Using the concept of slicing, print the whole tuple"
   ]
  },
  {
   "cell_type": "code",
   "execution_count": 40,
   "metadata": {},
   "outputs": [
    {
     "name": "stdout",
     "output_type": "stream",
     "text": [
      "('a', 'l', 'g', 'o', 'r', 'i', 't', 'h', 'm')\n"
     ]
    }
   ],
   "source": [
    "my_tuple = ('a','l','g','o','r','i','t','h','m')\n",
    "print(my_tuple[:])"
   ]
  },
  {
   "cell_type": "markdown",
   "metadata": {},
   "source": [
    "17.Given a tuple:\n",
    "    my_tuple = ('a','l','g','o','r','i','t','h','m')   \n",
    "    - delete the element at the 3rd index, print the tuple    \n",
    "    - delete the whole tuple"
   ]
  },
  {
   "cell_type": "code",
   "execution_count": 43,
   "metadata": {},
   "outputs": [
    {
     "ename": "TypeError",
     "evalue": "'tuple' object does not support item deletion",
     "output_type": "error",
     "traceback": [
      "\u001b[0;31m---------------------------------------------------------------------------\u001b[0m",
      "\u001b[0;31mTypeError\u001b[0m                                 Traceback (most recent call last)",
      "\u001b[0;32m<ipython-input-43-94a85fb85f4e>\u001b[0m in \u001b[0;36m<module>\u001b[0;34m()\u001b[0m\n\u001b[1;32m      1\u001b[0m \u001b[0mmy_tuple\u001b[0m \u001b[0;34m=\u001b[0m \u001b[0;34m(\u001b[0m\u001b[0;34m'a'\u001b[0m\u001b[0;34m,\u001b[0m\u001b[0;34m'l'\u001b[0m\u001b[0;34m,\u001b[0m\u001b[0;34m'g'\u001b[0m\u001b[0;34m,\u001b[0m\u001b[0;34m'o'\u001b[0m\u001b[0;34m,\u001b[0m\u001b[0;34m'r'\u001b[0m\u001b[0;34m,\u001b[0m\u001b[0;34m'i'\u001b[0m\u001b[0;34m,\u001b[0m\u001b[0;34m't'\u001b[0m\u001b[0;34m,\u001b[0m\u001b[0;34m'h'\u001b[0m\u001b[0;34m,\u001b[0m\u001b[0;34m'm'\u001b[0m\u001b[0;34m)\u001b[0m\u001b[0;34m\u001b[0m\u001b[0m\n\u001b[0;32m----> 2\u001b[0;31m \u001b[0;32mdel\u001b[0m \u001b[0mmy_tuple\u001b[0m\u001b[0;34m[\u001b[0m\u001b[0;36m2\u001b[0m\u001b[0;34m:\u001b[0m\u001b[0;34m]\u001b[0m\u001b[0;34m\u001b[0m\u001b[0m\n\u001b[0m",
      "\u001b[0;31mTypeError\u001b[0m: 'tuple' object does not support item deletion"
     ]
    }
   ],
   "source": [
    "my_tuple = ('a','l','g','o','r','i','t','h','m')\n",
    "del my_tuple[2:]"
   ]
  },
  {
   "cell_type": "markdown",
   "metadata": {},
   "source": [
    "18.Define a tuple having a list of 2 integers in it.\n",
    "   modify the first element in the list and print the Tuple"
   ]
  },
  {
   "cell_type": "code",
   "execution_count": 4,
   "metadata": {},
   "outputs": [
    {
     "name": "stdout",
     "output_type": "stream",
     "text": [
      "([2, 4], 6)\n"
     ]
    }
   ],
   "source": [
    "my_tuple = ([2,3],6)\n",
    "my_tuple[0][1] = 4\n",
    "print(my_tuple)"
   ]
  },
  {
   "cell_type": "markdown",
   "metadata": {},
   "source": [
    "19.Can tuples be reassigned?\n",
    "Ans: yes, because they are immutable\n",
    "In python 2 using del, it was possible to delete the tuple, in python 3.6, we cannot delete tuple"
   ]
  },
  {
   "cell_type": "markdown",
   "metadata": {},
   "source": [
    "20.Using print statement do the following:    \n",
    "    - output the concatenation of two tuples    \n",
    "    - using an example tuple in the print statement, print the word 'World' 3 times"
   ]
  },
  {
   "cell_type": "code",
   "execution_count": 45,
   "metadata": {},
   "outputs": [
    {
     "name": "stdout",
     "output_type": "stream",
     "text": [
      "(2, 3, 3, 4)\n"
     ]
    }
   ],
   "source": [
    "print((2,3) + (3,4))"
   ]
  },
  {
   "cell_type": "code",
   "execution_count": 53,
   "metadata": {},
   "outputs": [
    {
     "name": "stdout",
     "output_type": "stream",
     "text": [
      "('World', 'World', 'World')\n"
     ]
    }
   ],
   "source": [
    "print((\"World\",)*3)"
   ]
  },
  {
   "cell_type": "markdown",
   "metadata": {},
   "source": [
    "21.Check whether the given element is present in a tuple or not"
   ]
  },
  {
   "cell_type": "code",
   "execution_count": 47,
   "metadata": {},
   "outputs": [
    {
     "name": "stdout",
     "output_type": "stream",
     "text": [
      "True\n"
     ]
    }
   ],
   "source": [
    "my_tuple = (\"Sawani\", \"Omkar\", 33, 44)\n",
    "print(\"Sawani\" in my_tuple)"
   ]
  },
  {
   "cell_type": "markdown",
   "metadata": {},
   "source": [
    "22.Write a program in 2 lines:\n",
    "     Using a for loop and a tuple to print the below:    \n",
    "     hello earth    \n",
    "     hello mars"
   ]
  },
  {
   "cell_type": "code",
   "execution_count": 52,
   "metadata": {},
   "outputs": [
    {
     "name": "stdout",
     "output_type": "stream",
     "text": [
      "hello earth\n",
      "hello mass\n",
      "hello string\n"
     ]
    }
   ],
   "source": [
    "for name in ('earth', 'mass', 'string'):\n",
    "    print('hello', name)"
   ]
  },
  {
   "cell_type": "markdown",
   "metadata": {},
   "source": [
    "23.Can we convert tuples to lists and vice versa ?"
   ]
  },
  {
   "cell_type": "code",
   "execution_count": 49,
   "metadata": {},
   "outputs": [
    {
     "name": "stdout",
     "output_type": "stream",
     "text": [
      "['P', 'y', 't', 'h', 'o', 'n', ' ', 'i', 's', ' ', 'a', 'm', 'a', 'z', 'i', 'n', 'g']\n"
     ]
    }
   ],
   "source": [
    "message = \"Python is amazing\"\n",
    "print(list(message))"
   ]
  },
  {
   "cell_type": "code",
   "execution_count": 50,
   "metadata": {},
   "outputs": [
    {
     "name": "stdout",
     "output_type": "stream",
     "text": [
      "('P', 'y', 't', 'h', 'o', 'n', ' ', 'i', 's', ' ', 'a', 'm', 'a', 'z', 'i', 'n', 'g')\n"
     ]
    }
   ],
   "source": [
    "print(tuple(message))"
   ]
  },
  {
   "cell_type": "markdown",
   "metadata": {},
   "source": [
    "# Lists"
   ]
  },
  {
   "cell_type": "markdown",
   "metadata": {},
   "source": [
    "24.Write a program to print a new list which contains all the first characters of strings present in a list.\n",
    "     list_states  =[\" Madhya Pradesh\", \"Karnataka\", \"Chennai\", \"Goa“, \"Delhi\"]"
   ]
  },
  {
   "cell_type": "code",
   "execution_count": 66,
   "metadata": {},
   "outputs": [
    {
     "name": "stdout",
     "output_type": "stream",
     "text": [
      "F\n",
      "T\n",
      "C\n",
      "N\n"
     ]
    }
   ],
   "source": [
    "list_states =[\"Florida\", \"Texas\", \"California\", \"Nevada\"]\n",
    "for i in list_states:\n",
    "    print(i[0])"
   ]
  },
  {
   "cell_type": "markdown",
   "metadata": {},
   "source": [
    "25.Write a program to replace each string with an integer value in a given list of strings. The replacement integer value should be a sum of  Ascci values of each character of the corresponding string.\n",
    "     list_rivers  =[\"Ganges\", \"Godavari\", \"Brahmaputra\", \"Narmada\", \"Yamuna\", \"Mahanadi\", \"Kaveri\", \"Tapti\"]"
   ]
  },
  {
   "cell_type": "code",
   "execution_count": 67,
   "metadata": {},
   "outputs": [
    {
     "name": "stdout",
     "output_type": "stream",
     "text": [
      "[1050, 628, 593, 723, 1016]\n"
     ]
    }
   ],
   "source": [
    "cities = [\"San Antonio\",\"Austin\",\"Dallas\",\"San Jose\",\"California\"]\n",
    "\n",
    "new = [] #new list\n",
    "for i in cities: #iterate through cities\n",
    "    sum = 0  # sum = 0\n",
    "    for j in i: #through each letter \n",
    "        sum = sum + ord(j)\n",
    "    new.append(sum)\n",
    "print(new)"
   ]
  },
  {
   "cell_type": "code",
   "execution_count": 60,
   "metadata": {},
   "outputs": [
    {
     "name": "stdout",
     "output_type": "stream",
     "text": [
      "65\n"
     ]
    }
   ],
   "source": [
    "#ord: it provides ascii value of the character\n",
    "print(ord(\"A\"))"
   ]
  },
  {
   "cell_type": "code",
   "execution_count": 61,
   "metadata": {},
   "outputs": [
    {
     "name": "stdout",
     "output_type": "stream",
     "text": [
      "98\n"
     ]
    }
   ],
   "source": [
    "print(ord(\"b\"))"
   ]
  },
  {
   "cell_type": "markdown",
   "metadata": {},
   "source": [
    "26.Write a program which prints all duplicated values in a list"
   ]
  },
  {
   "cell_type": "code",
   "execution_count": 88,
   "metadata": {},
   "outputs": [
    {
     "name": "stdout",
     "output_type": "stream",
     "text": [
      "[0, 0, 0, 0, 0, 0, 0, 0, 0, 0]\n",
      "[0, 2, 2, 1, 1, 1, 1, 1, 0, 0]\n",
      "1\n",
      "2\n"
     ]
    }
   ],
   "source": [
    "numbers = [1,2,3,1,2,4,5,6,7]\n",
    "\n",
    "hash = []\n",
    "for i in range(10):\n",
    "    hash.append(0)\n",
    "print(hash)\n",
    "\n",
    "for i in numbers:\n",
    "    hash[i]+=1\n",
    "print(hash)\n",
    "\n",
    "index = 0\n",
    "for i in hash:\n",
    "    if i > 1:\n",
    "        print(index)\n",
    "    index += 1\n",
    "    \n",
    "\n",
    "\n",
    "    "
   ]
  },
  {
   "cell_type": "code",
   "execution_count": 93,
   "metadata": {},
   "outputs": [
    {
     "name": "stdout",
     "output_type": "stream",
     "text": [
      "[0, 0, 0, 0, 0]\n",
      "[0, 0, 3, 2, 0]\n",
      "2\n",
      "3\n"
     ]
    }
   ],
   "source": [
    "numbers = [2,2,3,3,2]\n",
    "\n",
    "hash = []\n",
    "for i in range(5):\n",
    "    hash.append(0)\n",
    "print(hash)\n",
    "\n",
    "for i in numbers:\n",
    "    hash[i]+=1\n",
    "print(hash)\n",
    "\n",
    "index = 0\n",
    "for i in hash:\n",
    "    if i > 1:\n",
    "        print(index)\n",
    "    index += 1"
   ]
  },
  {
   "cell_type": "markdown",
   "metadata": {},
   "source": [
    "27.Write a program to print True if the first element or last element is divisible by 4 in the given list."
   ]
  },
  {
   "cell_type": "code",
   "execution_count": 103,
   "metadata": {},
   "outputs": [
    {
     "name": "stdout",
     "output_type": "stream",
     "text": [
      "First and last element divisible by 4\n"
     ]
    }
   ],
   "source": [
    "num = [4,5,6,8]\n",
    "if ((num[-1])%4 == 0) and ((num[0])%4 == 0):\n",
    "    print(\"First and last element divisible by 4\")\n",
    "    \n",
    "else:\n",
    "    print(\"nothing\")\n",
    "  "
   ]
  },
  {
   "cell_type": "markdown",
   "metadata": {},
   "source": [
    "28.Write a program to print True if the first and last elements are equal and odd numbers in the given list."
   ]
  },
  {
   "cell_type": "code",
   "execution_count": 107,
   "metadata": {},
   "outputs": [
    {
     "name": "stdout",
     "output_type": "stream",
     "text": [
      "First and last element equal and off number\n"
     ]
    }
   ],
   "source": [
    "num = [5,6,6,7,8,9,5]\n",
    "if ((num[-1])%4 != 0) and ((num[0])%4 != 0) and (num[-1]==num[0]):\n",
    "    print(\"First and last element equal and off number\")\n",
    "    "
   ]
  },
  {
   "cell_type": "markdown",
   "metadata": {},
   "source": [
    "29.Write a program to print True if the sum of the first and last elements  are equal from the given two lists."
   ]
  },
  {
   "cell_type": "code",
   "execution_count": 110,
   "metadata": {},
   "outputs": [
    {
     "name": "stdout",
     "output_type": "stream",
     "text": [
      "True\n"
     ]
    }
   ],
   "source": [
    "list1 = [2,3,4,2]\n",
    "list2 = [2,5,6,2]\n",
    "\n",
    "if (list1[-1]==list1[0]) and (list2[-1]==list2[0]):\n",
    "    print(True)\n",
    "    \n",
    "else:\n",
    "    print(False)"
   ]
  },
  {
   "cell_type": "markdown",
   "metadata": {},
   "source": [
    " 30.Write a program to print the sum of all the elements in the given list."
   ]
  },
  {
   "cell_type": "code",
   "execution_count": 111,
   "metadata": {},
   "outputs": [
    {
     "name": "stdout",
     "output_type": "stream",
     "text": [
      "18\n"
     ]
    }
   ],
   "source": [
    "num = [2,4,5,6,1]\n",
    "sum = 0\n",
    "for number in num:\n",
    "    sum += number\n",
    "    \n",
    "print(sum)"
   ]
  },
  {
   "cell_type": "markdown",
   "metadata": {},
   "source": [
    "31.Write a program to sort a list of integer elements"
   ]
  },
  {
   "cell_type": "code",
   "execution_count": 116,
   "metadata": {},
   "outputs": [
    {
     "name": "stdout",
     "output_type": "stream",
     "text": [
      "[1, 4, 5, 22, 67]\n"
     ]
    }
   ],
   "source": [
    "number = [4,5,67,1,22]\n",
    "number.sort()\n",
    "print(number)\n"
   ]
  },
  {
   "cell_type": "markdown",
   "metadata": {},
   "source": [
    "32.Write a program to print a new list by doing a left rotate on the given list.\n",
    "    Ex: input: [4, 5, 6, 7] output: [5, 6, 7, 4]"
   ]
  },
  {
   "cell_type": "markdown",
   "metadata": {},
   "source": [
    "# Important"
   ]
  },
  {
   "cell_type": "code",
   "execution_count": 124,
   "metadata": {},
   "outputs": [
    {
     "name": "stdout",
     "output_type": "stream",
     "text": [
      "deque([7, 8, 1, 4])\n"
     ]
    }
   ],
   "source": [
    "import collections\n",
    "num = [1,4,7,8]\n",
    "new = collections.deque(num) #deque will pop all the elements in num and it will put that in new\n",
    "#print(new)\n",
    "new.rotate(2) #rotate right by 2\n",
    "print(new)"
   ]
  },
  {
   "cell_type": "markdown",
   "metadata": {},
   "source": [
    "33.Write a program to find the maximum number from the given list of numbers and replace all the numbers from the list with the maximum number."
   ]
  },
  {
   "cell_type": "code",
   "execution_count": 128,
   "metadata": {},
   "outputs": [
    {
     "name": "stdout",
     "output_type": "stream",
     "text": [
      "77\n",
      "[77, 77, 77, 77, 77]\n"
     ]
    }
   ],
   "source": [
    "num = [10, 66,77, 2,3]\n",
    "max = 0\n",
    "for i in num:\n",
    "    if i > max: #logic to print the maximum number\n",
    "        max = i\n",
    "print(max)\n",
    "\n",
    "i = 0\n",
    "index = 0\n",
    "for i in num:\n",
    "    num[index] = max\n",
    "    index += 1\n",
    "print(num)"
   ]
  },
  {
   "cell_type": "markdown",
   "metadata": {},
   "source": [
    "34.Given two lists x and y, print two new lists as output which includes all the elements of x and y except for the first and last elements."
   ]
  },
  {
   "cell_type": "code",
   "execution_count": 129,
   "metadata": {},
   "outputs": [
    {
     "name": "stdout",
     "output_type": "stream",
     "text": [
      "[5, 6, 7]\n",
      "[5, 6, 2]\n"
     ]
    }
   ],
   "source": [
    "x = [2,5,6,7,8]\n",
    "y = [3,5,6,2,3]\n",
    "print(x[1:-1])\n",
    "print(y[1:-1])"
   ]
  },
  {
   "cell_type": "code",
   "execution_count": 131,
   "metadata": {},
   "outputs": [
    {
     "name": "stdout",
     "output_type": "stream",
     "text": [
      "[6]\n"
     ]
    }
   ],
   "source": [
    "print(x[2:-2]) #stripped two elements from right side and two elements from the left side"
   ]
  },
  {
   "cell_type": "markdown",
   "metadata": {},
   "source": [
    "35.Given a list, Write a program which prints all elements which are multiples of 4."
   ]
  },
  {
   "cell_type": "code",
   "execution_count": 134,
   "metadata": {},
   "outputs": [
    {
     "name": "stdout",
     "output_type": "stream",
     "text": [
      "Multiples of 4 are 4\n",
      "Multiples of 4 are 8\n",
      "Multiples of 4 are 12\n"
     ]
    }
   ],
   "source": [
    "numbers = [4,8,19,10,6,33,23,12,2,98]\n",
    "\n",
    "for i in numbers:\n",
    "    if i%4 == 0:\n",
    "        print(\"Multiples of 4 are {}\".format(i))"
   ]
  },
  {
   "cell_type": "markdown",
   "metadata": {},
   "source": [
    "# Shallow Copying "
   ]
  },
  {
   "cell_type": "markdown",
   "metadata": {},
   "source": [
    "36.Given a list   \n",
    "    colours1 = [\"red\", \"green\"] with the help of a new list, \n",
    "    modify the list colours1, such that\n",
    "    colour1 = [\"red\", \"blue\" ]"
   ]
  },
  {
   "cell_type": "code",
   "execution_count": 135,
   "metadata": {
    "collapsed": true
   },
   "outputs": [],
   "source": [
    "colors = [\"red\", \"green\"]\n",
    "colors1 = colors"
   ]
  },
  {
   "cell_type": "code",
   "execution_count": 136,
   "metadata": {},
   "outputs": [
    {
     "name": "stdout",
     "output_type": "stream",
     "text": [
      "['red', 'blue']\n"
     ]
    }
   ],
   "source": [
    "colors1[1] = \"blue\"\n",
    "print(colors1)"
   ]
  },
  {
   "cell_type": "code",
   "execution_count": 137,
   "metadata": {},
   "outputs": [
    {
     "name": "stdout",
     "output_type": "stream",
     "text": [
      "['red', 'blue']\n"
     ]
    }
   ],
   "source": [
    "print(colors)"
   ]
  },
  {
   "cell_type": "markdown",
   "metadata": {},
   "source": [
    "37.Given a list \n",
    "    list1 = ['a','b','c','d‘] with the help of 'slice' construct and a new list, make changes in  list1, such that list1=['a','x','c','d']. Verify if the original list is modified\n"
   ]
  },
  {
   "cell_type": "code",
   "execution_count": 139,
   "metadata": {},
   "outputs": [
    {
     "name": "stdout",
     "output_type": "stream",
     "text": [
      "['p', 'q', 'r', 's', 't']\n"
     ]
    }
   ],
   "source": [
    "list1 = ['p','q','r','s','t']\n",
    "list2 = list1[:] #because of the slice operator, we got here whole new list\n",
    "list2[2] = 'x'\n",
    "print(list1)\n"
   ]
  },
  {
   "cell_type": "code",
   "execution_count": 140,
   "metadata": {},
   "outputs": [
    {
     "name": "stdout",
     "output_type": "stream",
     "text": [
      "['p', 'q', 'x', 's', 't']\n"
     ]
    }
   ],
   "source": [
    "print(list2) #only list2 is modified"
   ]
  },
  {
   "cell_type": "markdown",
   "metadata": {},
   "source": [
    "38.Given a list, lst1 = ['a','b',['ab','ba']]  with the help of 'slice' construct and a new list, modify lst1 such that \n",
    "    lst1=['a', 'b', ['ab', 'd']]"
   ]
  },
  {
   "cell_type": "code",
   "execution_count": 141,
   "metadata": {},
   "outputs": [
    {
     "name": "stdout",
     "output_type": "stream",
     "text": [
      "['a', 'b', ['ab', 'd']]\n"
     ]
    }
   ],
   "source": [
    "lst1 = ['a','b',['ab','ba']]\n",
    "lst2 = lst1\n",
    "lst2[2][1] = \"d\"\n",
    "print(lst2)"
   ]
  },
  {
   "cell_type": "code",
   "execution_count": 142,
   "metadata": {},
   "outputs": [
    {
     "name": "stdout",
     "output_type": "stream",
     "text": [
      "['a', 'b', ['ab', 'd']]\n"
     ]
    }
   ],
   "source": [
    "print(lst1)"
   ]
  },
  {
   "cell_type": "markdown",
   "metadata": {},
   "source": [
    "# Deep Copying"
   ]
  },
  {
   "cell_type": "markdown",
   "metadata": {},
   "source": [
    "39.Given a list\n",
    "    lst1 = ['a','b',['ab','ba']]   \n",
    "    Use the function ‘deepcopy’ and a new list to make changes in the lst2. Verify if the list is modified"
   ]
  },
  {
   "cell_type": "code",
   "execution_count": 147,
   "metadata": {},
   "outputs": [
    {
     "name": "stdout",
     "output_type": "stream",
     "text": [
      "['s', 'b', ['pq', 'rs']]\n",
      "['a', 'b', ['pq', 'rs']]\n"
     ]
    }
   ],
   "source": [
    "#deepcopy does not change the original list, when changes are made\n",
    "from copy import deepcopy\n",
    "lst1 = ['a', 'b',['pq','rs']]\n",
    "lst2 = deepcopy(lst1)\n",
    "lst2[0] = 's'\n",
    "print(lst2)\n",
    "print(lst1)"
   ]
  },
  {
   "cell_type": "markdown",
   "metadata": {},
   "source": [
    "40.Given a list\n",
    "    lst1 = ['a','b',['ab','ba']]   \n",
    "    Use the function ‘copy’ and a new list to make changes in the lst2. Verify if the list is modified"
   ]
  },
  {
   "cell_type": "code",
   "execution_count": 148,
   "metadata": {},
   "outputs": [
    {
     "name": "stdout",
     "output_type": "stream",
     "text": [
      "['a', 'r', 't']\n",
      "['s', 'r', 't']\n"
     ]
    }
   ],
   "source": [
    "#copy function\n",
    "from copy import copy\n",
    "lst1 = ['s','r','t']\n",
    "lst2 = copy(lst1)\n",
    "lst2[0] = 'a'\n",
    "print(lst2)\n",
    "print(lst1)"
   ]
  },
  {
   "cell_type": "markdown",
   "metadata": {},
   "source": [
    "# Difference between copy and deepcopy is, in copy address is copied and deepcopy address is not copied"
   ]
  },
  {
   "cell_type": "markdown",
   "metadata": {},
   "source": [
    "41.Convert a integer to string"
   ]
  },
  {
   "cell_type": "code",
   "execution_count": 149,
   "metadata": {},
   "outputs": [
    {
     "name": "stdout",
     "output_type": "stream",
     "text": [
      "Hello how are you? 12\n"
     ]
    }
   ],
   "source": [
    "print(\"Hello how are you?\" + \" \" + str(12))"
   ]
  },
  {
   "cell_type": "markdown",
   "metadata": {},
   "source": [
    "# str and eval() function"
   ]
  },
  {
   "cell_type": "markdown",
   "metadata": {},
   "source": [
    "42.Write a pgm to compare two string using    \n",
    "     - str() and eval() functions   "
   ]
  },
  {
   "cell_type": "code",
   "execution_count": 150,
   "metadata": {},
   "outputs": [
    {
     "name": "stdout",
     "output_type": "stream",
     "text": [
      "Using repr method\n",
      "Two strings are equal\n"
     ]
    }
   ],
   "source": [
    "y = \"Sawani Soman\"\n",
    "print(\"Using repr method\")\n",
    "#repr creates an object on which eval() can operate on\n",
    "y2 = eval(repr(y)) #it will convert into string\n",
    "if(y==y2):\n",
    "    print(\"Two strings are equal\")"
   ]
  },
  {
   "cell_type": "code",
   "execution_count": 151,
   "metadata": {},
   "outputs": [
    {
     "name": "stdout",
     "output_type": "stream",
     "text": [
      "Using str method\n"
     ]
    },
    {
     "ename": "SyntaxError",
     "evalue": "unexpected EOF while parsing (<string>, line 1)",
     "output_type": "error",
     "traceback": [
      "\u001b[0;36m  File \u001b[0;32m\"<string>\"\u001b[0;36m, line \u001b[0;32m1\u001b[0m\n\u001b[0;31m    Sawani Soman\u001b[0m\n\u001b[0m               ^\u001b[0m\n\u001b[0;31mSyntaxError\u001b[0m\u001b[0;31m:\u001b[0m unexpected EOF while parsing\n"
     ]
    }
   ],
   "source": [
    "y = \"Sawani Soman\"\n",
    "#eval value cannot operate on str method generated string, y acts as undefined variable\n",
    "print(\"Using str method\")\n",
    "y2 = eval(str(y))\n",
    "if(y==y2):\n",
    "    print(\"Two strings are equal\")\n",
    "    \n",
    "else:\n",
    "    print(\"Two strings not equal\")"
   ]
  },
  {
   "cell_type": "code",
   "execution_count": 153,
   "metadata": {},
   "outputs": [
    {
     "name": "stdout",
     "output_type": "stream",
     "text": [
      "6\n"
     ]
    }
   ],
   "source": [
    "x = 5\n",
    "print(eval('x+1'))"
   ]
  },
  {
   "cell_type": "markdown",
   "metadata": {},
   "source": [
    "# Dictionaries"
   ]
  },
  {
   "cell_type": "code",
   "execution_count": 154,
   "metadata": {},
   "outputs": [
    {
     "name": "stdout",
     "output_type": "stream",
     "text": [
      "25\n"
     ]
    }
   ],
   "source": [
    "#creating a dictionary\n",
    "dict1 = {'name':'Sawani', 'age':25, 'occupation':'software engineer'}\n",
    "print(dict1['age'])"
   ]
  },
  {
   "cell_type": "code",
   "execution_count": 156,
   "metadata": {},
   "outputs": [
    {
     "name": "stdout",
     "output_type": "stream",
     "text": [
      "{'name': 'Sawani', 'age': 25, 'occupation': 'software engineer', 'years': 2}\n"
     ]
    }
   ],
   "source": [
    "#adding value in dictionary\n",
    "dict1['years'] = 2\n",
    "print(dict1)"
   ]
  },
  {
   "cell_type": "code",
   "execution_count": 158,
   "metadata": {},
   "outputs": [
    {
     "name": "stdout",
     "output_type": "stream",
     "text": [
      "{'name': 'Sawani', 'age': 25, 'occupation': 'software engineer', 'years': 4}\n"
     ]
    }
   ],
   "source": [
    "#replacing values in dictionary\n",
    "dict1['years'] = 4\n",
    "print(dict1)"
   ]
  },
  {
   "cell_type": "code",
   "execution_count": 159,
   "metadata": {},
   "outputs": [
    {
     "name": "stdout",
     "output_type": "stream",
     "text": [
      "{'name': 'sawani', 'age': 26}\n"
     ]
    }
   ],
   "source": [
    "#rule to follow for dictionary\n",
    "dict2 = {'name':'Davis', 'age':26, 'name':'sawani'} #the latest key will be printed\n",
    "print(dict2)"
   ]
  },
  {
   "cell_type": "markdown",
   "metadata": {},
   "source": [
    "# Important Collections"
   ]
  },
  {
   "cell_type": "code",
   "execution_count": 163,
   "metadata": {},
   "outputs": [
    {
     "name": "stdout",
     "output_type": "stream",
     "text": [
      "odict_items([('name', 'sawani'), ('age', '25')])\n"
     ]
    }
   ],
   "source": [
    "from collections import OrderedDict\n",
    "d = OrderedDict([('name','sawani'),('age','25')])\n",
    "print(d.items())"
   ]
  },
  {
   "cell_type": "markdown",
   "metadata": {},
   "source": [
    "# Split and Join"
   ]
  },
  {
   "cell_type": "code",
   "execution_count": 168,
   "metadata": {},
   "outputs": [
    {
     "name": "stdout",
     "output_type": "stream",
     "text": [
      "I love python 3\n",
      "['I', 'love', 'python', '3']\n",
      "I- -l-o-v-e- -p-y-t-h-o-n- -3\n"
     ]
    }
   ],
   "source": [
    "#Split\n",
    "string = \"I love python 3\"\n",
    "print(string)\n",
    "print(string.split())\n",
    "print('-'.join(string))"
   ]
  },
  {
   "cell_type": "code",
   "execution_count": 169,
   "metadata": {},
   "outputs": [
    {
     "name": "stdout",
     "output_type": "stream",
     "text": [
      "I$lOVE$CISCO\n"
     ]
    }
   ],
   "source": [
    "#Join\n",
    "string = [\"I\",\"lOVE\",\"CISCO\"]\n",
    "print('$'.join(string))"
   ]
  },
  {
   "cell_type": "markdown",
   "metadata": {},
   "source": [
    "# with statement"
   ]
  },
  {
   "cell_type": "code",
   "execution_count": 170,
   "metadata": {
    "collapsed": true
   },
   "outputs": [],
   "source": [
    "#Advantage of with statement: with statement automatically takes care of closing the file\n",
    "with open('output.txt','w') as s:\n",
    "    s.write(\"Python3.6 programming\")"
   ]
  },
  {
   "cell_type": "markdown",
   "metadata": {},
   "source": [
    "# Enumerate function\n",
    "It prints index values with elements"
   ]
  },
  {
   "cell_type": "code",
   "execution_count": 172,
   "metadata": {},
   "outputs": [
    {
     "name": "stdout",
     "output_type": "stream",
     "text": [
      "<enumerate object at 0x10ad143a8>\n"
     ]
    }
   ],
   "source": [
    "seasons = ['spring','summer','Fall','Winter']\n",
    "print(enumerate(seasons))"
   ]
  },
  {
   "cell_type": "markdown",
   "metadata": {},
   "source": [
    "# Important"
   ]
  },
  {
   "cell_type": "code",
   "execution_count": 174,
   "metadata": {},
   "outputs": [
    {
     "name": "stdout",
     "output_type": "stream",
     "text": [
      "[(0, 'spring'), (1, 'summer'), (2, 'Fall'), (3, 'Winter')]\n"
     ]
    }
   ],
   "source": [
    "seasons = ['spring','summer','Fall','Winter']\n",
    "print(list(enumerate(seasons)))"
   ]
  },
  {
   "cell_type": "code",
   "execution_count": 175,
   "metadata": {},
   "outputs": [
    {
     "name": "stdout",
     "output_type": "stream",
     "text": [
      "[(2, 'spring'), (3, 'summer'), (4, 'Fall'), (5, 'Winter')]\n"
     ]
    }
   ],
   "source": [
    "seasons = ['spring','summer','Fall','Winter']\n",
    "print(list(enumerate(seasons, start=2)))"
   ]
  },
  {
   "cell_type": "code",
   "execution_count": 176,
   "metadata": {
    "collapsed": true
   },
   "outputs": [],
   "source": [
    "def enumerate(sequence, start=0):\n",
    "    n = start\n",
    "    for e in sequence:\n",
    "        yield n,e\n",
    "        n += 1"
   ]
  },
  {
   "cell_type": "code",
   "execution_count": 177,
   "metadata": {},
   "outputs": [
    {
     "data": {
      "text/plain": [
       "<generator object enumerate at 0x10ace9468>"
      ]
     },
     "execution_count": 177,
     "metadata": {},
     "output_type": "execute_result"
    }
   ],
   "source": [
    "enumerate(\"Sawani\")"
   ]
  },
  {
   "cell_type": "code",
   "execution_count": 178,
   "metadata": {},
   "outputs": [
    {
     "name": "stdout",
     "output_type": "stream",
     "text": [
      "0 Sawani\n",
      "1 Omkar\n",
      "2 Davis\n"
     ]
    }
   ],
   "source": [
    "for i,v in enumerate([\"Sawani\",\"Omkar\",\"Davis\"]):\n",
    "    print(i,v)"
   ]
  },
  {
   "cell_type": "markdown",
   "metadata": {},
   "source": [
    "# zip function"
   ]
  },
  {
   "cell_type": "code",
   "execution_count": 14,
   "metadata": {},
   "outputs": [
    {
     "name": "stdout",
     "output_type": "stream",
     "text": [
      "[('S', 20, 6), ('O', 30, 7), ('A', 40, 8)]\n"
     ]
    }
   ],
   "source": [
    "lst1 = ['S','O','A']\n",
    "lst2 = [20,30,40]\n",
    "lst3 = [6,7,8,9]\n",
    "result = zip(lst1, lst2, lst3) #EXPECTED O/P ---> it does not concatenate\n",
    "print(list(result))"
   ]
  },
  {
   "cell_type": "code",
   "execution_count": 183,
   "metadata": {},
   "outputs": [
    {
     "name": "stdout",
     "output_type": "stream",
     "text": [
      "<zip object at 0x10ad04788>\n"
     ]
    }
   ],
   "source": [
    "print(zip(lst1,lst2))"
   ]
  },
  {
   "cell_type": "markdown",
   "metadata": {},
   "source": [
    "# HTML table creation"
   ]
  },
  {
   "cell_type": "code",
   "execution_count": 185,
   "metadata": {},
   "outputs": [
    {
     "name": "stdout",
     "output_type": "stream",
     "text": [
      "<html>\n",
      "<body>\n",
      "<table>\n",
      "<table>\n",
      "</body>\n",
      "</html>\n"
     ]
    }
   ],
   "source": [
    "fields = [\"Name\",\"Age\",\"Company\",\"Salary\"]\n",
    "print(\"<html>\")\n",
    "print(\"<body>\")\n",
    "print(\"<table>\")\n",
    "def th():\n",
    "    print(\"<tr><td>Table Discription<td></tr>\")\n",
    "    print(\"<tr>\")\n",
    "\n",
    "print(\"<table>\")\n",
    "print(\"</body>\")\n",
    "print(\"</html>\")"
   ]
  },
  {
   "cell_type": "markdown",
   "metadata": {},
   "source": [
    "https://docs.python.org/2/faq/programming.html"
   ]
  },
  {
   "cell_type": "code",
   "execution_count": 186,
   "metadata": {},
   "outputs": [
    {
     "name": "stdout",
     "output_type": "stream",
     "text": [
      "Hello World\n"
     ]
    }
   ],
   "source": [
    "str = \"Hello World\"\n",
    "print(str)"
   ]
  },
  {
   "cell_type": "code",
   "execution_count": 1,
   "metadata": {},
   "outputs": [
    {
     "name": "stdout",
     "output_type": "stream",
     "text": [
      "['Sawani']\n"
     ]
    }
   ],
   "source": [
    "a = []\n",
    "a.insert(0,'Sawani')\n",
    "print(a)"
   ]
  },
  {
   "cell_type": "markdown",
   "metadata": {},
   "source": [
    "# Strings"
   ]
  },
  {
   "cell_type": "code",
   "execution_count": 2,
   "metadata": {},
   "outputs": [
    {
     "name": "stdout",
     "output_type": "stream",
     "text": [
      "def\n"
     ]
    }
   ],
   "source": [
    "#last three copies of the string\n",
    "a =\"abcdef\"\n",
    "print(a[-3:])"
   ]
  },
  {
   "cell_type": "code",
   "execution_count": 3,
   "metadata": {},
   "outputs": [
    {
     "data": {
      "text/plain": [
       "'def'"
      ]
     },
     "execution_count": 3,
     "metadata": {},
     "output_type": "execute_result"
    }
   ],
   "source": [
    "#get last half and then first half of the string printed\n",
    "str = \"abcdef\"\n",
    "str[int(len(str)/2):]"
   ]
  },
  {
   "cell_type": "code",
   "execution_count": 8,
   "metadata": {},
   "outputs": [
    {
     "data": {
      "text/plain": [
       "'def'"
      ]
     },
     "execution_count": 8,
     "metadata": {},
     "output_type": "execute_result"
    }
   ],
   "source": [
    "str[int(len(str)/2):]"
   ]
  },
  {
   "cell_type": "code",
   "execution_count": 9,
   "metadata": {},
   "outputs": [
    {
     "data": {
      "text/plain": [
       "'abc'"
      ]
     },
     "execution_count": 9,
     "metadata": {},
     "output_type": "execute_result"
    }
   ],
   "source": [
    "str[:int(len(str)/2)]"
   ]
  },
  {
   "cell_type": "markdown",
   "metadata": {},
   "source": [
    "50.Write a program to count the number of occurrences of each character in a given string"
   ]
  },
  {
   "cell_type": "code",
   "execution_count": 15,
   "metadata": {},
   "outputs": [
    {
     "ename": "TypeError",
     "evalue": "'int' object is not subscriptable",
     "output_type": "error",
     "traceback": [
      "\u001b[0;31m---------------------------------------------------------------------------\u001b[0m",
      "\u001b[0;31mTypeError\u001b[0m                                 Traceback (most recent call last)",
      "\u001b[0;32m<ipython-input-15-afe941b9cb38>\u001b[0m in \u001b[0;36m<module>\u001b[0;34m()\u001b[0m\n\u001b[1;32m      2\u001b[0m \u001b[0mx\u001b[0m \u001b[0;34m=\u001b[0m \u001b[0;36m0\u001b[0m\u001b[0;34m*\u001b[0m\u001b[0;36m200\u001b[0m  \u001b[0;31m#200 slots are taken\u001b[0m\u001b[0;34m\u001b[0m\u001b[0m\n\u001b[1;32m      3\u001b[0m \u001b[0;32mfor\u001b[0m \u001b[0mi\u001b[0m \u001b[0;32min\u001b[0m \u001b[0ma\u001b[0m\u001b[0;34m:\u001b[0m\u001b[0;34m\u001b[0m\u001b[0m\n\u001b[0;32m----> 4\u001b[0;31m     \u001b[0mx\u001b[0m\u001b[0;34m[\u001b[0m\u001b[0mord\u001b[0m\u001b[0;34m(\u001b[0m\u001b[0mi\u001b[0m\u001b[0;34m)\u001b[0m\u001b[0;34m]\u001b[0m \u001b[0;34m=\u001b[0m \u001b[0mx\u001b[0m\u001b[0;34m[\u001b[0m\u001b[0mord\u001b[0m\u001b[0;34m(\u001b[0m\u001b[0mi\u001b[0m\u001b[0;34m)\u001b[0m\u001b[0;34m]\u001b[0m \u001b[0;34m+\u001b[0m \u001b[0;36m1\u001b[0m\u001b[0;34m\u001b[0m\u001b[0m\n\u001b[0m\u001b[1;32m      5\u001b[0m \u001b[0;34m\u001b[0m\u001b[0m\n\u001b[1;32m      6\u001b[0m \u001b[0;32mfor\u001b[0m \u001b[0mindex\u001b[0m\u001b[0;34m,\u001b[0m \u001b[0mi\u001b[0m \u001b[0;32min\u001b[0m \u001b[0menumerate\u001b[0m\u001b[0;34m(\u001b[0m\u001b[0mx\u001b[0m\u001b[0;34m)\u001b[0m\u001b[0;34m:\u001b[0m\u001b[0;34m\u001b[0m\u001b[0m\n",
      "\u001b[0;31mTypeError\u001b[0m: 'int' object is not subscriptable"
     ]
    }
   ],
   "source": [
    "a = \"abcdeffgghhiiiiiii\"\n",
    "x = 0*200  #200 slots are taken\n",
    "for i in a:\n",
    "    x[ord(i)] = x[ord(i)] + 1\n",
    "    \n",
    "for index, i in enumerate(x):\n",
    "    if (x>0):\n",
    "        print(\"%c occured %d\"%(chr(index),i))\n",
    "        "
   ]
  },
  {
   "cell_type": "markdown",
   "metadata": {},
   "source": [
    "# PEP8\n",
    "    "
   ]
  },
  {
   "cell_type": "markdown",
   "metadata": {},
   "source": [
    "1. Add comments before if statements\n",
    "2. Add comment to the line, to explain it, but small one\n",
    "3. While writing comments start with Capital letter\n",
    "4. Tabs or spaces? be consistant with one and use 4 spaces, spaces are preferred\n",
    "5. Maximum line of characters: 79\n",
    "6. Imports:   \n",
    "Import os  \n",
    "Import sys  \n",
    "Not recommended to write Import os, sys\n",
    "7. Use either \"\" or '' to define a string, be consistant with one and use that entierly, prefer: \"\""
   ]
  },
  {
   "cell_type": "markdown",
   "metadata": {},
   "source": [
    "# Multiline comment"
   ]
  },
  {
   "cell_type": "code",
   "execution_count": 18,
   "metadata": {},
   "outputs": [
    {
     "data": {
      "text/plain": [
       "3"
      ]
     },
     "execution_count": 18,
     "metadata": {},
     "output_type": "execute_result"
    }
   ],
   "source": [
    "'''this is multiline comment'''\n",
    "a =1\n",
    "b = 2\n",
    "a+b"
   ]
  },
  {
   "cell_type": "code",
   "execution_count": 5,
   "metadata": {
    "collapsed": true
   },
   "outputs": [],
   "source": [
    "y = \"Sawani Soman\""
   ]
  },
  {
   "cell_type": "code",
   "execution_count": 6,
   "metadata": {},
   "outputs": [
    {
     "data": {
      "text/plain": [
       "\"'Sawani Soman'\""
      ]
     },
     "execution_count": 6,
     "metadata": {},
     "output_type": "execute_result"
    }
   ],
   "source": [
    "repr(y)"
   ]
  },
  {
   "cell_type": "code",
   "execution_count": 7,
   "metadata": {},
   "outputs": [
    {
     "data": {
      "text/plain": [
       "'Sawani Soman'"
      ]
     },
     "execution_count": 7,
     "metadata": {},
     "output_type": "execute_result"
    }
   ],
   "source": [
    "str(y)"
   ]
  },
  {
   "cell_type": "code",
   "execution_count": 8,
   "metadata": {
    "collapsed": true
   },
   "outputs": [],
   "source": [
    "x = 6"
   ]
  },
  {
   "cell_type": "code",
   "execution_count": 9,
   "metadata": {},
   "outputs": [
    {
     "data": {
      "text/plain": [
       "12"
      ]
     },
     "execution_count": 9,
     "metadata": {},
     "output_type": "execute_result"
    }
   ],
   "source": [
    "eval('x *2')"
   ]
  },
  {
   "cell_type": "code",
   "execution_count": 10,
   "metadata": {},
   "outputs": [
    {
     "data": {
      "text/plain": [
       "8"
      ]
     },
     "execution_count": 10,
     "metadata": {},
     "output_type": "execute_result"
    }
   ],
   "source": [
    "eval(\"x + 2\")"
   ]
  },
  {
   "cell_type": "code",
   "execution_count": 11,
   "metadata": {},
   "outputs": [
    {
     "name": "stdout",
     "output_type": "stream",
     "text": [
      "x + 2\n"
     ]
    }
   ],
   "source": [
    "print(\"x + 2\")"
   ]
  },
  {
   "cell_type": "code",
   "execution_count": 13,
   "metadata": {},
   "outputs": [
    {
     "name": "stdout",
     "output_type": "stream",
     "text": [
      "True\n"
     ]
    }
   ],
   "source": [
    "y = \"Sawani Soman\"\n",
    "y2 = str(y)\n",
    "if (y == y2):\n",
    "    print(True)"
   ]
  },
  {
   "cell_type": "code",
   "execution_count": 2,
   "metadata": {},
   "outputs": [
    {
     "ename": "NameError",
     "evalue": "name 'self' is not defined",
     "output_type": "error",
     "traceback": [
      "\u001b[0;31m---------------------------------------------------------------------------\u001b[0m",
      "\u001b[0;31mNameError\u001b[0m                                 Traceback (most recent call last)",
      "\u001b[0;32m<ipython-input-2-38bf987a5a3b>\u001b[0m in \u001b[0;36m<module>\u001b[0;34m()\u001b[0m\n\u001b[1;32m      4\u001b[0m         \u001b[0mself\u001b[0m\u001b[0;34m.\u001b[0m\u001b[0mmessage\u001b[0m \u001b[0;34m=\u001b[0m \u001b[0mmessage\u001b[0m\u001b[0;34m\u001b[0m\u001b[0m\n\u001b[1;32m      5\u001b[0m \u001b[0;34m\u001b[0m\u001b[0m\n\u001b[0;32m----> 6\u001b[0;31m \u001b[0;32mclass\u001b[0m \u001b[0mstaging\u001b[0m\u001b[0;34m(\u001b[0m\u001b[0memail\u001b[0m\u001b[0;34m)\u001b[0m\u001b[0;34m:\u001b[0m\u001b[0;34m\u001b[0m\u001b[0m\n\u001b[0m\u001b[1;32m      7\u001b[0m        \u001b[0mprint\u001b[0m\u001b[0;34m(\u001b[0m\u001b[0mself\u001b[0m\u001b[0;34m.\u001b[0m\u001b[0msub\u001b[0m\u001b[0;34m)\u001b[0m\u001b[0;34m\u001b[0m\u001b[0m\n\u001b[1;32m      8\u001b[0m \u001b[0;34m\u001b[0m\u001b[0m\n",
      "\u001b[0;32m<ipython-input-2-38bf987a5a3b>\u001b[0m in \u001b[0;36mstaging\u001b[0;34m()\u001b[0m\n\u001b[1;32m      5\u001b[0m \u001b[0;34m\u001b[0m\u001b[0m\n\u001b[1;32m      6\u001b[0m \u001b[0;32mclass\u001b[0m \u001b[0mstaging\u001b[0m\u001b[0;34m(\u001b[0m\u001b[0memail\u001b[0m\u001b[0;34m)\u001b[0m\u001b[0;34m:\u001b[0m\u001b[0;34m\u001b[0m\u001b[0m\n\u001b[0;32m----> 7\u001b[0;31m        \u001b[0mprint\u001b[0m\u001b[0;34m(\u001b[0m\u001b[0mself\u001b[0m\u001b[0;34m.\u001b[0m\u001b[0msub\u001b[0m\u001b[0;34m)\u001b[0m\u001b[0;34m\u001b[0m\u001b[0m\n\u001b[0m\u001b[1;32m      8\u001b[0m \u001b[0;34m\u001b[0m\u001b[0m\n",
      "\u001b[0;31mNameError\u001b[0m: name 'self' is not defined"
     ]
    }
   ],
   "source": [
    "class email(object):\n",
    "    def send(self, subject, message):\n",
    "        self.sub = subject\n",
    "        self.message = message\n",
    "        \n",
    "class staging(email):\n",
    "       super()\n",
    "        "
   ]
  },
  {
   "cell_type": "code",
   "execution_count": 15,
   "metadata": {
    "collapsed": true
   },
   "outputs": [],
   "source": [
    "import re\n",
    "a = \"4\"\n",
    "#assert: it checks if condition is true\n",
    "assert(re.search(\"4\", a))"
   ]
  },
  {
   "cell_type": "code",
   "execution_count": 16,
   "metadata": {},
   "outputs": [
    {
     "ename": "AssertionError",
     "evalue": "",
     "output_type": "error",
     "traceback": [
      "\u001b[0;31m---------------------------------------------------------------------------\u001b[0m",
      "\u001b[0;31mAssertionError\u001b[0m                            Traceback (most recent call last)",
      "\u001b[0;32m<ipython-input-16-49b533a12caa>\u001b[0m in \u001b[0;36m<module>\u001b[0;34m()\u001b[0m\n\u001b[0;32m----> 1\u001b[0;31m \u001b[0;32massert\u001b[0m\u001b[0;34m(\u001b[0m\u001b[0mre\u001b[0m\u001b[0;34m.\u001b[0m\u001b[0msearch\u001b[0m\u001b[0;34m(\u001b[0m\u001b[0;34m\"7\"\u001b[0m\u001b[0;34m,\u001b[0m \u001b[0ma\u001b[0m\u001b[0;34m)\u001b[0m\u001b[0;34m)\u001b[0m\u001b[0;34m\u001b[0m\u001b[0m\n\u001b[0m",
      "\u001b[0;31mAssertionError\u001b[0m: "
     ]
    }
   ],
   "source": [
    "assert(re.search(\"7\", a))"
   ]
  },
  {
   "cell_type": "code",
   "execution_count": 3,
   "metadata": {
    "collapsed": true
   },
   "outputs": [],
   "source": [
    "winnerName = \"Sawani\"\n",
    "assert(re.search(\"Sawani\", winnerName))"
   ]
  },
  {
   "cell_type": "code",
   "execution_count": 6,
   "metadata": {
    "collapsed": true
   },
   "outputs": [],
   "source": [
    "# ^ starting with\n",
    "# .* anything, even end, '.' represents single character or digit \n",
    "# $ end \n",
    "assert(re.search(\"^.*$\", winnerName))"
   ]
  },
  {
   "cell_type": "code",
   "execution_count": 7,
   "metadata": {
    "collapsed": true
   },
   "outputs": [],
   "source": [
    "# i$ ending with i, $ is used to end\n",
    "assert(re.search(\"^S.*i$\", winnerName))"
   ]
  },
  {
   "cell_type": "code",
   "execution_count": 9,
   "metadata": {
    "collapsed": true
   },
   "outputs": [],
   "source": [
    "winnerName = \"Sbwani\"\n",
    "# . represents anything single char\n",
    "assert(re.search(\"^S.wani$\", winnerName))"
   ]
  },
  {
   "cell_type": "code",
   "execution_count": 10,
   "metadata": {
    "collapsed": true
   },
   "outputs": [],
   "source": [
    "winnerName = \" Sawani\"\n",
    "assert(re.search(\"^ Sawani.*\", winnerName))"
   ]
  },
  {
   "cell_type": "code",
   "execution_count": 11,
   "metadata": {
    "collapsed": true
   },
   "outputs": [],
   "source": [
    "#\\s for one space\n",
    "assert(re.search(\"^\\sSawani.*\", winnerName))"
   ]
  },
  {
   "cell_type": "code",
   "execution_count": 14,
   "metadata": {
    "collapsed": true
   },
   "outputs": [],
   "source": [
    "winnerName = \"         Sawani\"\n",
    "#\\s+ is one or more space\n",
    "#assert(re.search(\"^\\sSawani.*\", winnerName)) #assertion error\n",
    "assert(re.search(\"^\\s+Sawani.*\", winnerName))"
   ]
  },
  {
   "cell_type": "code",
   "execution_count": 15,
   "metadata": {
    "collapsed": true
   },
   "outputs": [],
   "source": [
    "winnerName = \"         Sawani    \"\n",
    "assert(re.search(\"^\\s+Sawani.*\", winnerName))"
   ]
  },
  {
   "cell_type": "code",
   "execution_count": 17,
   "metadata": {
    "collapsed": true
   },
   "outputs": [],
   "source": [
    "assert(re.search(\"^\\s+Sawani\\s+$\", winnerName))"
   ]
  },
  {
   "cell_type": "code",
   "execution_count": 1,
   "metadata": {
    "collapsed": true
   },
   "outputs": [],
   "source": [
    "import re"
   ]
  },
  {
   "cell_type": "code",
   "execution_count": 5,
   "metadata": {
    "collapsed": true
   },
   "outputs": [],
   "source": [
    "# Writing $ to specifiy end is good practice\n",
    "# | it stands for or\n",
    "winnerName = \"         Bawani    \"\n",
    "assert(re.search(\"^\\s+[S|b|B]awani.*$\", winnerName))"
   ]
  },
  {
   "cell_type": "markdown",
   "metadata": {},
   "source": [
    "# Important"
   ]
  },
  {
   "cell_type": "code",
   "execution_count": 2,
   "metadata": {
    "collapsed": true
   },
   "outputs": [],
   "source": [
    "# it is always better to have \\s+\n",
    "import re\n",
    "winnerName = \"   Sawani is having 3456 chains   \"\n",
    "assert(re.search(\"^\\s+Sawani\\s+is\\s+having\\s+3.*$\", winnerName))"
   ]
  },
  {
   "cell_type": "code",
   "execution_count": 4,
   "metadata": {
    "collapsed": true
   },
   "outputs": [],
   "source": [
    "assert(re.search(\"^\\s+Sawani\\s+is\\s+having\\s+3[0-9][0-9][0-9].*$\", winnerName))"
   ]
  },
  {
   "cell_type": "code",
   "execution_count": 11,
   "metadata": {
    "collapsed": true
   },
   "outputs": [],
   "source": [
    "#assert(re.search(\"^\\s+Sawani\\s+is\\s+having\\s+3([0-9]*3).*$\", winnerName))"
   ]
  },
  {
   "cell_type": "code",
   "execution_count": 21,
   "metadata": {
    "collapsed": true
   },
   "outputs": [],
   "source": [
    "#{1,3}: represents digit length can be 1 to 3\n",
    "# Due to .* it is not giving error\n",
    "assert(re.search(\"^\\s+Sawani\\s+is\\s+having\\s+\\d{1,3}.*$\", winnerName))"
   ]
  },
  {
   "cell_type": "code",
   "execution_count": 22,
   "metadata": {
    "collapsed": true
   },
   "outputs": [],
   "source": [
    "assert(re.search(\"^\\s+Sawani\\s+is\\s+having\\s+\\d{1,4}\\s+chains\\s+$\", winnerName))"
   ]
  },
  {
   "cell_type": "code",
   "execution_count": 24,
   "metadata": {
    "collapsed": true
   },
   "outputs": [],
   "source": [
    "nature = \"Sawani has ip add 123.45.61.2\"\n",
    "assert(re.search(\"^Sawani\\s+has\\s+ip\\s+add\\s+\\d{1,3}\\\\.\\d{1,3}\\\\.\\d{1,3}\\\\.\\d{1,3}$\", nature))"
   ]
  },
  {
   "cell_type": "code",
   "execution_count": 4,
   "metadata": {},
   "outputs": [],
   "source": [
    "#IPV6\n",
    "import re\n",
    "input1 = \"31:1:1::1/64\"\n",
    "assert(re.search(\"^(\\d{1,3}:){3}:\\d{1,3}.*$\", input1))"
   ]
  },
  {
   "cell_type": "code",
   "execution_count": 25,
   "metadata": {
    "collapsed": true
   },
   "outputs": [],
   "source": [
    "nature = \"Sawani has ip add 123.45.61.2\"\n",
    "assert(re.search(\"^Sawani\\s+has\\s+ip\\s+add\\s+(\\d{1,3}\\\\.){3}\\d{1,3}$\", nature))"
   ]
  },
  {
   "cell_type": "markdown",
   "metadata": {
    "collapsed": true
   },
   "source": [
    "# Threading:\n",
    "https://www.youtube.com/watch?v=2ZwuKeL0aHs"
   ]
  },
  {
   "cell_type": "code",
   "execution_count": 2,
   "metadata": {},
   "outputs": [
    {
     "name": "stdout",
     "output_type": "stream",
     "text": [
      "Hi, I am thread1. Going to sleep for 5 seconds \n",
      "\n",
      "thread1 has woken up from sleep \n",
      "\n",
      "hello\n",
      "what is going on\n"
     ]
    }
   ],
   "source": [
    "import threading\n",
    "import time\n",
    "\n",
    "\n",
    "\n",
    "def sleeper(n, name):\n",
    "    print('Hi, I am {}. Going to sleep for 5 seconds \\n'.format(name))\n",
    "    time.sleep(n)\n",
    "    print('{} has woken up from sleep \\n'.format(name))\n",
    "    \n",
    "    \n",
    "    \n",
    "    \n",
    "t = threading.Thread(target = sleeper, name = 'thread1', args =(5, 'thread1') )\n",
    " \n",
    " \n",
    "t.start()\n",
    " \n",
    " \n",
    " \n",
    "t.join() # Used to lock the main program from running\n",
    " \n",
    " \n",
    "print('hello')\n",
    "print('what is going on')\n",
    " "
   ]
  },
  {
   "cell_type": "code",
   "execution_count": null,
   "metadata": {
    "collapsed": true
   },
   "outputs": [],
   "source": []
  }
 ],
 "metadata": {
  "kernelspec": {
   "display_name": "Python 3",
   "language": "python",
   "name": "python3"
  },
  "language_info": {
   "codemirror_mode": {
    "name": "ipython",
    "version": 3
   },
   "file_extension": ".py",
   "mimetype": "text/x-python",
   "name": "python",
   "nbconvert_exporter": "python",
   "pygments_lexer": "ipython3",
   "version": "3.6.1"
  }
 },
 "nbformat": 4,
 "nbformat_minor": 2
}
